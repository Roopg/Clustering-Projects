{
  "cells": [
    {
      "cell_type": "markdown",
      "metadata": {
        "id": "view-in-github",
        "colab_type": "text"
      },
      "source": [
        "<a href=\"https://colab.research.google.com/github/Roopg/Clustering-Projects/blob/main/Clustering_for_Customer_Segmentation.ipynb\" target=\"_parent\"><img src=\"https://colab.research.google.com/assets/colab-badge.svg\" alt=\"Open In Colab\"/></a>"
      ]
    },
    {
      "cell_type": "markdown",
      "source": [
        "# Baseline Clustering for customer segmentation"
      ],
      "metadata": {
        "id": "aNYjLCLNsVQj"
      },
      "id": "aNYjLCLNsVQj"
    },
    {
      "cell_type": "markdown",
      "source": [
        "Ecommerce companies such as Amazon, rely heavily on customer segmentation to recommend the right products and offers to the users when they login into their platform.\n",
        "\n",
        "In this retail customer segmentation case study, we use a simple baseline algorithm called K-means that uses a centroid based approach to find the cluster that best group the datapoints based on the attributes. \n",
        "\n",
        "The retail customer dataset that we will be using comprises of the following 6 different customer features-\n",
        "\n",
        "- Number of clicks on the retail website\n",
        "- Number of visits to the website\n",
        "- Amount_spent by the user on buy products from the website\n",
        "- total amount of discount availed by the user while shopping\n",
        "- Number of days since the user first registered on the website\n",
        "- User profile information\n",
        "\n",
        "As this is an unsupervised technique we obviously do not have any labels. The k-means algo will generate the labels for each of the customer records and group the datapoints with similar labels into clusters.\n",
        "\n",
        "The objective of our case study is to-\n",
        "\n",
        "- Cluster a user base for the ecommerce company using K-means Clustering\n",
        "\n",
        "- Draw insights from the clusters (customer segments) from a business prespective and provide recommendations\n",
        "\n",
        "- Explore methods to pick the optimal value of k- which is the number of centroids and an important hyperparameter in the K-means clustering algo"
      ],
      "metadata": {
        "id": "fJphPiHDltzy"
      },
      "id": "fJphPiHDltzy"
    },
    {
      "cell_type": "code",
      "source": [
        "from google.colab import drive\n",
        "drive.mount('/content/drive')"
      ],
      "metadata": {
        "colab": {
          "base_uri": "https://localhost:8080/"
        },
        "id": "waU0sjDMWl0f",
        "outputId": "00e71541-c202-459b-e0c8-080800af63da"
      },
      "id": "waU0sjDMWl0f",
      "execution_count": null,
      "outputs": [
        {
          "output_type": "stream",
          "name": "stdout",
          "text": [
            "Mounted at /content/drive\n"
          ]
        }
      ]
    },
    {
      "cell_type": "code",
      "execution_count": null,
      "id": "7d99d3fe",
      "metadata": {
        "id": "7d99d3fe"
      },
      "outputs": [],
      "source": [
        "import pandas as pd\n",
        "import numpy as np\n",
        "from matplotlib import pyplot as plt\n",
        "import seaborn as sns\n",
        "from sklearn.cluster import KMeans"
      ]
    },
    {
      "cell_type": "markdown",
      "source": [
        ""
      ],
      "metadata": {
        "id": "ePbpoYfwz78K"
      },
      "id": "ePbpoYfwz78K"
    },
    {
      "cell_type": "code",
      "execution_count": null,
      "id": "bbba7bae",
      "metadata": {
        "id": "bbba7bae"
      },
      "outputs": [],
      "source": [
        "df = pd.read_csv(\"/content/E-commerce.csv\")"
      ]
    },
    {
      "cell_type": "code",
      "execution_count": null,
      "id": "67917558",
      "metadata": {
        "colab": {
          "base_uri": "https://localhost:8080/",
          "height": 206
        },
        "id": "67917558",
        "outputId": "aa7dd3cd-59f0-4d08-83e4-eb3477302f19"
      },
      "outputs": [
        {
          "output_type": "execute_result",
          "data": {
            "text/plain": [
              "     ID  n_clicks  n_visits  amount_spent  amount_discount  \\\n",
              "0  1476       130        65    213.905831        31.600751   \n",
              "1  1535       543        46    639.223004         5.689175   \n",
              "2  1807       520       102   1157.402763       844.321606   \n",
              "3  1727       702        83   1195.903634       850.041757   \n",
              "4  1324       221        84    180.754616        64.283300   \n",
              "\n",
              "   days_since_registration  profile_information  \n",
              "0                      233                  235  \n",
              "1                      228                  170  \n",
              "2                      247                  409  \n",
              "3                      148                  200  \n",
              "4                      243                  259  "
            ],
            "text/html": [
              "\n",
              "  <div id=\"df-dbd89dc5-069d-4494-aef8-037cc44ab769\">\n",
              "    <div class=\"colab-df-container\">\n",
              "      <div>\n",
              "<style scoped>\n",
              "    .dataframe tbody tr th:only-of-type {\n",
              "        vertical-align: middle;\n",
              "    }\n",
              "\n",
              "    .dataframe tbody tr th {\n",
              "        vertical-align: top;\n",
              "    }\n",
              "\n",
              "    .dataframe thead th {\n",
              "        text-align: right;\n",
              "    }\n",
              "</style>\n",
              "<table border=\"1\" class=\"dataframe\">\n",
              "  <thead>\n",
              "    <tr style=\"text-align: right;\">\n",
              "      <th></th>\n",
              "      <th>ID</th>\n",
              "      <th>n_clicks</th>\n",
              "      <th>n_visits</th>\n",
              "      <th>amount_spent</th>\n",
              "      <th>amount_discount</th>\n",
              "      <th>days_since_registration</th>\n",
              "      <th>profile_information</th>\n",
              "    </tr>\n",
              "  </thead>\n",
              "  <tbody>\n",
              "    <tr>\n",
              "      <th>0</th>\n",
              "      <td>1476</td>\n",
              "      <td>130</td>\n",
              "      <td>65</td>\n",
              "      <td>213.905831</td>\n",
              "      <td>31.600751</td>\n",
              "      <td>233</td>\n",
              "      <td>235</td>\n",
              "    </tr>\n",
              "    <tr>\n",
              "      <th>1</th>\n",
              "      <td>1535</td>\n",
              "      <td>543</td>\n",
              "      <td>46</td>\n",
              "      <td>639.223004</td>\n",
              "      <td>5.689175</td>\n",
              "      <td>228</td>\n",
              "      <td>170</td>\n",
              "    </tr>\n",
              "    <tr>\n",
              "      <th>2</th>\n",
              "      <td>1807</td>\n",
              "      <td>520</td>\n",
              "      <td>102</td>\n",
              "      <td>1157.402763</td>\n",
              "      <td>844.321606</td>\n",
              "      <td>247</td>\n",
              "      <td>409</td>\n",
              "    </tr>\n",
              "    <tr>\n",
              "      <th>3</th>\n",
              "      <td>1727</td>\n",
              "      <td>702</td>\n",
              "      <td>83</td>\n",
              "      <td>1195.903634</td>\n",
              "      <td>850.041757</td>\n",
              "      <td>148</td>\n",
              "      <td>200</td>\n",
              "    </tr>\n",
              "    <tr>\n",
              "      <th>4</th>\n",
              "      <td>1324</td>\n",
              "      <td>221</td>\n",
              "      <td>84</td>\n",
              "      <td>180.754616</td>\n",
              "      <td>64.283300</td>\n",
              "      <td>243</td>\n",
              "      <td>259</td>\n",
              "    </tr>\n",
              "  </tbody>\n",
              "</table>\n",
              "</div>\n",
              "      <button class=\"colab-df-convert\" onclick=\"convertToInteractive('df-dbd89dc5-069d-4494-aef8-037cc44ab769')\"\n",
              "              title=\"Convert this dataframe to an interactive table.\"\n",
              "              style=\"display:none;\">\n",
              "        \n",
              "  <svg xmlns=\"http://www.w3.org/2000/svg\" height=\"24px\"viewBox=\"0 0 24 24\"\n",
              "       width=\"24px\">\n",
              "    <path d=\"M0 0h24v24H0V0z\" fill=\"none\"/>\n",
              "    <path d=\"M18.56 5.44l.94 2.06.94-2.06 2.06-.94-2.06-.94-.94-2.06-.94 2.06-2.06.94zm-11 1L8.5 8.5l.94-2.06 2.06-.94-2.06-.94L8.5 2.5l-.94 2.06-2.06.94zm10 10l.94 2.06.94-2.06 2.06-.94-2.06-.94-.94-2.06-.94 2.06-2.06.94z\"/><path d=\"M17.41 7.96l-1.37-1.37c-.4-.4-.92-.59-1.43-.59-.52 0-1.04.2-1.43.59L10.3 9.45l-7.72 7.72c-.78.78-.78 2.05 0 2.83L4 21.41c.39.39.9.59 1.41.59.51 0 1.02-.2 1.41-.59l7.78-7.78 2.81-2.81c.8-.78.8-2.07 0-2.86zM5.41 20L4 18.59l7.72-7.72 1.47 1.35L5.41 20z\"/>\n",
              "  </svg>\n",
              "      </button>\n",
              "      \n",
              "  <style>\n",
              "    .colab-df-container {\n",
              "      display:flex;\n",
              "      flex-wrap:wrap;\n",
              "      gap: 12px;\n",
              "    }\n",
              "\n",
              "    .colab-df-convert {\n",
              "      background-color: #E8F0FE;\n",
              "      border: none;\n",
              "      border-radius: 50%;\n",
              "      cursor: pointer;\n",
              "      display: none;\n",
              "      fill: #1967D2;\n",
              "      height: 32px;\n",
              "      padding: 0 0 0 0;\n",
              "      width: 32px;\n",
              "    }\n",
              "\n",
              "    .colab-df-convert:hover {\n",
              "      background-color: #E2EBFA;\n",
              "      box-shadow: 0px 1px 2px rgba(60, 64, 67, 0.3), 0px 1px 3px 1px rgba(60, 64, 67, 0.15);\n",
              "      fill: #174EA6;\n",
              "    }\n",
              "\n",
              "    [theme=dark] .colab-df-convert {\n",
              "      background-color: #3B4455;\n",
              "      fill: #D2E3FC;\n",
              "    }\n",
              "\n",
              "    [theme=dark] .colab-df-convert:hover {\n",
              "      background-color: #434B5C;\n",
              "      box-shadow: 0px 1px 3px 1px rgba(0, 0, 0, 0.15);\n",
              "      filter: drop-shadow(0px 1px 2px rgba(0, 0, 0, 0.3));\n",
              "      fill: #FFFFFF;\n",
              "    }\n",
              "  </style>\n",
              "\n",
              "      <script>\n",
              "        const buttonEl =\n",
              "          document.querySelector('#df-dbd89dc5-069d-4494-aef8-037cc44ab769 button.colab-df-convert');\n",
              "        buttonEl.style.display =\n",
              "          google.colab.kernel.accessAllowed ? 'block' : 'none';\n",
              "\n",
              "        async function convertToInteractive(key) {\n",
              "          const element = document.querySelector('#df-dbd89dc5-069d-4494-aef8-037cc44ab769');\n",
              "          const dataTable =\n",
              "            await google.colab.kernel.invokeFunction('convertToInteractive',\n",
              "                                                     [key], {});\n",
              "          if (!dataTable) return;\n",
              "\n",
              "          const docLinkHtml = 'Like what you see? Visit the ' +\n",
              "            '<a target=\"_blank\" href=https://colab.research.google.com/notebooks/data_table.ipynb>data table notebook</a>'\n",
              "            + ' to learn more about interactive tables.';\n",
              "          element.innerHTML = '';\n",
              "          dataTable['output_type'] = 'display_data';\n",
              "          await google.colab.output.renderOutput(dataTable, element);\n",
              "          const docLink = document.createElement('div');\n",
              "          docLink.innerHTML = docLinkHtml;\n",
              "          element.appendChild(docLink);\n",
              "        }\n",
              "      </script>\n",
              "    </div>\n",
              "  </div>\n",
              "  "
            ]
          },
          "metadata": {},
          "execution_count": 59
        }
      ],
      "source": [
        "df.head()"
      ]
    },
    {
      "cell_type": "markdown",
      "id": "861a0215",
      "metadata": {
        "id": "861a0215"
      },
      "source": [
        "### Rounding off the \"amount_spent\" and \"amount_discount\" values to 2 decimal places."
      ]
    },
    {
      "cell_type": "code",
      "execution_count": null,
      "id": "38999d2f",
      "metadata": {
        "colab": {
          "base_uri": "https://localhost:8080/"
        },
        "id": "38999d2f",
        "outputId": "13964075-4723-4338-c47f-cfc39697c100"
      },
      "outputs": [
        {
          "output_type": "execute_result",
          "data": {
            "text/plain": [
              "0        213.91\n",
              "1        639.22\n",
              "2       1157.40\n",
              "3       1195.90\n",
              "4        180.75\n",
              "         ...   \n",
              "2495     502.64\n",
              "2496     530.01\n",
              "2497       0.00\n",
              "2498    3190.50\n",
              "2499    1394.59\n",
              "Name: amount_spent, Length: 2500, dtype: float64"
            ]
          },
          "metadata": {},
          "execution_count": 60
        }
      ],
      "source": [
        "df[\"amount_spent\"].round(decimals=2)"
      ]
    },
    {
      "cell_type": "code",
      "execution_count": null,
      "id": "79ee5087",
      "metadata": {
        "colab": {
          "base_uri": "https://localhost:8080/"
        },
        "id": "79ee5087",
        "outputId": "a7c43ace-7621-448c-86fd-ee187b02e979"
      },
      "outputs": [
        {
          "output_type": "execute_result",
          "data": {
            "text/plain": [
              "0         31.60\n",
              "1          5.69\n",
              "2        844.32\n",
              "3        850.04\n",
              "4         64.28\n",
              "         ...   \n",
              "2495     373.41\n",
              "2496     122.64\n",
              "2497       0.00\n",
              "2498      78.13\n",
              "2499    1065.42\n",
              "Name: amount_discount, Length: 2500, dtype: float64"
            ]
          },
          "metadata": {},
          "execution_count": 61
        }
      ],
      "source": [
        "df[\"amount_discount\"].round(decimals=2)"
      ]
    },
    {
      "cell_type": "code",
      "execution_count": null,
      "id": "f515165e",
      "metadata": {
        "colab": {
          "base_uri": "https://localhost:8080/"
        },
        "id": "f515165e",
        "outputId": "8f97fefb-9119-42e5-f01c-7ea88a663fc1"
      },
      "outputs": [
        {
          "output_type": "execute_result",
          "data": {
            "text/plain": [
              "(2500, 7)"
            ]
          },
          "metadata": {},
          "execution_count": 62
        }
      ],
      "source": [
        "df.shape"
      ]
    },
    {
      "cell_type": "markdown",
      "id": "a08f7940",
      "metadata": {
        "id": "a08f7940"
      },
      "source": [
        "### Check for duplicates"
      ]
    },
    {
      "cell_type": "code",
      "execution_count": null,
      "id": "26ff8f49",
      "metadata": {
        "colab": {
          "base_uri": "https://localhost:8080/"
        },
        "id": "26ff8f49",
        "outputId": "c1eb5b13-bae4-4cc6-8bea-980b792340a8"
      },
      "outputs": [
        {
          "output_type": "execute_result",
          "data": {
            "text/plain": [
              "0"
            ]
          },
          "metadata": {},
          "execution_count": 63
        }
      ],
      "source": [
        "# Returns True of duplicate and series of boolean values\n",
        "dup_rows = df.duplicated()\n",
        "dup_rows.sum()"
      ]
    },
    {
      "cell_type": "markdown",
      "id": "fdf8b021",
      "metadata": {
        "id": "fdf8b021"
      },
      "source": [
        "We have a small dataset of 2500 unique customers and 7 customer attributes."
      ]
    },
    {
      "cell_type": "code",
      "execution_count": null,
      "id": "38c6332c",
      "metadata": {
        "colab": {
          "base_uri": "https://localhost:8080/"
        },
        "id": "38c6332c",
        "outputId": "380cf1fc-3e35-4ce9-a943-0ec5ca5e9b10"
      },
      "outputs": [
        {
          "output_type": "stream",
          "name": "stdout",
          "text": [
            "<class 'pandas.core.frame.DataFrame'>\n",
            "RangeIndex: 2500 entries, 0 to 2499\n",
            "Data columns (total 7 columns):\n",
            " #   Column                   Non-Null Count  Dtype  \n",
            "---  ------                   --------------  -----  \n",
            " 0   ID                       2500 non-null   int64  \n",
            " 1   n_clicks                 2500 non-null   int64  \n",
            " 2   n_visits                 2500 non-null   int64  \n",
            " 3   amount_spent             2500 non-null   float64\n",
            " 4   amount_discount          2500 non-null   float64\n",
            " 5   days_since_registration  2500 non-null   int64  \n",
            " 6   profile_information      2500 non-null   int64  \n",
            "dtypes: float64(2), int64(5)\n",
            "memory usage: 136.8 KB\n"
          ]
        }
      ],
      "source": [
        "df.info()"
      ]
    },
    {
      "cell_type": "markdown",
      "id": "87511c63",
      "metadata": {
        "id": "87511c63"
      },
      "source": [
        "We have 2 continuous features (amount_spent and amount_discount) and 5 discrete features. We have no categorical features in the given dataset."
      ]
    },
    {
      "cell_type": "markdown",
      "id": "8266496d",
      "metadata": {
        "id": "8266496d"
      },
      "source": [
        "### Data cleaning and preprocessing "
      ]
    },
    {
      "cell_type": "markdown",
      "source": [
        "#### Dropping the unique identifier-\"ID\" as we do not want our model to draw any learning from the ID feature."
      ],
      "metadata": {
        "id": "gC-PVTESuUa0"
      },
      "id": "gC-PVTESuUa0"
    },
    {
      "cell_type": "code",
      "execution_count": null,
      "id": "98e294ea",
      "metadata": {
        "id": "98e294ea"
      },
      "outputs": [],
      "source": [
        "X=df.drop(\"ID\",axis=1)"
      ]
    },
    {
      "cell_type": "code",
      "execution_count": null,
      "id": "af3be58e",
      "metadata": {
        "colab": {
          "base_uri": "https://localhost:8080/",
          "height": 206
        },
        "id": "af3be58e",
        "outputId": "d38a52bd-57e9-45ad-d2a7-e91de3cf2b87"
      },
      "outputs": [
        {
          "output_type": "execute_result",
          "data": {
            "text/plain": [
              "   n_clicks  n_visits  amount_spent  amount_discount  days_since_registration  \\\n",
              "0       130        65    213.905831        31.600751                      233   \n",
              "1       543        46    639.223004         5.689175                      228   \n",
              "2       520       102   1157.402763       844.321606                      247   \n",
              "3       702        83   1195.903634       850.041757                      148   \n",
              "4       221        84    180.754616        64.283300                      243   \n",
              "\n",
              "   profile_information  \n",
              "0                  235  \n",
              "1                  170  \n",
              "2                  409  \n",
              "3                  200  \n",
              "4                  259  "
            ],
            "text/html": [
              "\n",
              "  <div id=\"df-47915591-b57e-4af2-8be2-cd2527e830f9\">\n",
              "    <div class=\"colab-df-container\">\n",
              "      <div>\n",
              "<style scoped>\n",
              "    .dataframe tbody tr th:only-of-type {\n",
              "        vertical-align: middle;\n",
              "    }\n",
              "\n",
              "    .dataframe tbody tr th {\n",
              "        vertical-align: top;\n",
              "    }\n",
              "\n",
              "    .dataframe thead th {\n",
              "        text-align: right;\n",
              "    }\n",
              "</style>\n",
              "<table border=\"1\" class=\"dataframe\">\n",
              "  <thead>\n",
              "    <tr style=\"text-align: right;\">\n",
              "      <th></th>\n",
              "      <th>n_clicks</th>\n",
              "      <th>n_visits</th>\n",
              "      <th>amount_spent</th>\n",
              "      <th>amount_discount</th>\n",
              "      <th>days_since_registration</th>\n",
              "      <th>profile_information</th>\n",
              "    </tr>\n",
              "  </thead>\n",
              "  <tbody>\n",
              "    <tr>\n",
              "      <th>0</th>\n",
              "      <td>130</td>\n",
              "      <td>65</td>\n",
              "      <td>213.905831</td>\n",
              "      <td>31.600751</td>\n",
              "      <td>233</td>\n",
              "      <td>235</td>\n",
              "    </tr>\n",
              "    <tr>\n",
              "      <th>1</th>\n",
              "      <td>543</td>\n",
              "      <td>46</td>\n",
              "      <td>639.223004</td>\n",
              "      <td>5.689175</td>\n",
              "      <td>228</td>\n",
              "      <td>170</td>\n",
              "    </tr>\n",
              "    <tr>\n",
              "      <th>2</th>\n",
              "      <td>520</td>\n",
              "      <td>102</td>\n",
              "      <td>1157.402763</td>\n",
              "      <td>844.321606</td>\n",
              "      <td>247</td>\n",
              "      <td>409</td>\n",
              "    </tr>\n",
              "    <tr>\n",
              "      <th>3</th>\n",
              "      <td>702</td>\n",
              "      <td>83</td>\n",
              "      <td>1195.903634</td>\n",
              "      <td>850.041757</td>\n",
              "      <td>148</td>\n",
              "      <td>200</td>\n",
              "    </tr>\n",
              "    <tr>\n",
              "      <th>4</th>\n",
              "      <td>221</td>\n",
              "      <td>84</td>\n",
              "      <td>180.754616</td>\n",
              "      <td>64.283300</td>\n",
              "      <td>243</td>\n",
              "      <td>259</td>\n",
              "    </tr>\n",
              "  </tbody>\n",
              "</table>\n",
              "</div>\n",
              "      <button class=\"colab-df-convert\" onclick=\"convertToInteractive('df-47915591-b57e-4af2-8be2-cd2527e830f9')\"\n",
              "              title=\"Convert this dataframe to an interactive table.\"\n",
              "              style=\"display:none;\">\n",
              "        \n",
              "  <svg xmlns=\"http://www.w3.org/2000/svg\" height=\"24px\"viewBox=\"0 0 24 24\"\n",
              "       width=\"24px\">\n",
              "    <path d=\"M0 0h24v24H0V0z\" fill=\"none\"/>\n",
              "    <path d=\"M18.56 5.44l.94 2.06.94-2.06 2.06-.94-2.06-.94-.94-2.06-.94 2.06-2.06.94zm-11 1L8.5 8.5l.94-2.06 2.06-.94-2.06-.94L8.5 2.5l-.94 2.06-2.06.94zm10 10l.94 2.06.94-2.06 2.06-.94-2.06-.94-.94-2.06-.94 2.06-2.06.94z\"/><path d=\"M17.41 7.96l-1.37-1.37c-.4-.4-.92-.59-1.43-.59-.52 0-1.04.2-1.43.59L10.3 9.45l-7.72 7.72c-.78.78-.78 2.05 0 2.83L4 21.41c.39.39.9.59 1.41.59.51 0 1.02-.2 1.41-.59l7.78-7.78 2.81-2.81c.8-.78.8-2.07 0-2.86zM5.41 20L4 18.59l7.72-7.72 1.47 1.35L5.41 20z\"/>\n",
              "  </svg>\n",
              "      </button>\n",
              "      \n",
              "  <style>\n",
              "    .colab-df-container {\n",
              "      display:flex;\n",
              "      flex-wrap:wrap;\n",
              "      gap: 12px;\n",
              "    }\n",
              "\n",
              "    .colab-df-convert {\n",
              "      background-color: #E8F0FE;\n",
              "      border: none;\n",
              "      border-radius: 50%;\n",
              "      cursor: pointer;\n",
              "      display: none;\n",
              "      fill: #1967D2;\n",
              "      height: 32px;\n",
              "      padding: 0 0 0 0;\n",
              "      width: 32px;\n",
              "    }\n",
              "\n",
              "    .colab-df-convert:hover {\n",
              "      background-color: #E2EBFA;\n",
              "      box-shadow: 0px 1px 2px rgba(60, 64, 67, 0.3), 0px 1px 3px 1px rgba(60, 64, 67, 0.15);\n",
              "      fill: #174EA6;\n",
              "    }\n",
              "\n",
              "    [theme=dark] .colab-df-convert {\n",
              "      background-color: #3B4455;\n",
              "      fill: #D2E3FC;\n",
              "    }\n",
              "\n",
              "    [theme=dark] .colab-df-convert:hover {\n",
              "      background-color: #434B5C;\n",
              "      box-shadow: 0px 1px 3px 1px rgba(0, 0, 0, 0.15);\n",
              "      filter: drop-shadow(0px 1px 2px rgba(0, 0, 0, 0.3));\n",
              "      fill: #FFFFFF;\n",
              "    }\n",
              "  </style>\n",
              "\n",
              "      <script>\n",
              "        const buttonEl =\n",
              "          document.querySelector('#df-47915591-b57e-4af2-8be2-cd2527e830f9 button.colab-df-convert');\n",
              "        buttonEl.style.display =\n",
              "          google.colab.kernel.accessAllowed ? 'block' : 'none';\n",
              "\n",
              "        async function convertToInteractive(key) {\n",
              "          const element = document.querySelector('#df-47915591-b57e-4af2-8be2-cd2527e830f9');\n",
              "          const dataTable =\n",
              "            await google.colab.kernel.invokeFunction('convertToInteractive',\n",
              "                                                     [key], {});\n",
              "          if (!dataTable) return;\n",
              "\n",
              "          const docLinkHtml = 'Like what you see? Visit the ' +\n",
              "            '<a target=\"_blank\" href=https://colab.research.google.com/notebooks/data_table.ipynb>data table notebook</a>'\n",
              "            + ' to learn more about interactive tables.';\n",
              "          element.innerHTML = '';\n",
              "          dataTable['output_type'] = 'display_data';\n",
              "          await google.colab.output.renderOutput(dataTable, element);\n",
              "          const docLink = document.createElement('div');\n",
              "          docLink.innerHTML = docLinkHtml;\n",
              "          element.appendChild(docLink);\n",
              "        }\n",
              "      </script>\n",
              "    </div>\n",
              "  </div>\n",
              "  "
            ]
          },
          "metadata": {},
          "execution_count": 67
        }
      ],
      "source": [
        "X.head()"
      ]
    },
    {
      "cell_type": "code",
      "execution_count": null,
      "id": "ce70cf71",
      "metadata": {
        "colab": {
          "base_uri": "https://localhost:8080/",
          "height": 238
        },
        "id": "ce70cf71",
        "outputId": "713727d6-cb33-4a40-95af-88a986cbf4b6"
      },
      "outputs": [
        {
          "output_type": "execute_result",
          "data": {
            "text/plain": [
              "                          count         mean          std   min         25%  \\\n",
              "n_clicks                 2500.0   408.680000   186.414090  50.0  274.750000   \n",
              "n_visits                 2500.0    94.475600    38.866356  10.0   67.000000   \n",
              "amount_spent             2500.0  1445.090745  1167.663473   0.0  609.618538   \n",
              "amount_discount          2500.0   388.508637   487.143968   0.0   56.298615   \n",
              "days_since_registration  2500.0   200.973600    99.136618   0.0  130.000000   \n",
              "profile_information      2500.0   201.040400   100.139213   0.0  132.000000   \n",
              "\n",
              "                                 50%          75%          max  \n",
              "n_clicks                  378.000000   522.000000  1246.000000  \n",
              "n_visits                   92.000000   119.000000   259.000000  \n",
              "amount_spent             1036.189112  1949.270949  6567.402267  \n",
              "amount_discount           137.454623   679.540536  2428.406527  \n",
              "days_since_registration   200.000000   268.000000   514.000000  \n",
              "profile_information       201.000000   270.000000   585.000000  "
            ],
            "text/html": [
              "\n",
              "  <div id=\"df-8a30111d-b0d4-4fa5-94dd-8518a0636ef5\">\n",
              "    <div class=\"colab-df-container\">\n",
              "      <div>\n",
              "<style scoped>\n",
              "    .dataframe tbody tr th:only-of-type {\n",
              "        vertical-align: middle;\n",
              "    }\n",
              "\n",
              "    .dataframe tbody tr th {\n",
              "        vertical-align: top;\n",
              "    }\n",
              "\n",
              "    .dataframe thead th {\n",
              "        text-align: right;\n",
              "    }\n",
              "</style>\n",
              "<table border=\"1\" class=\"dataframe\">\n",
              "  <thead>\n",
              "    <tr style=\"text-align: right;\">\n",
              "      <th></th>\n",
              "      <th>count</th>\n",
              "      <th>mean</th>\n",
              "      <th>std</th>\n",
              "      <th>min</th>\n",
              "      <th>25%</th>\n",
              "      <th>50%</th>\n",
              "      <th>75%</th>\n",
              "      <th>max</th>\n",
              "    </tr>\n",
              "  </thead>\n",
              "  <tbody>\n",
              "    <tr>\n",
              "      <th>n_clicks</th>\n",
              "      <td>2500.0</td>\n",
              "      <td>408.680000</td>\n",
              "      <td>186.414090</td>\n",
              "      <td>50.0</td>\n",
              "      <td>274.750000</td>\n",
              "      <td>378.000000</td>\n",
              "      <td>522.000000</td>\n",
              "      <td>1246.000000</td>\n",
              "    </tr>\n",
              "    <tr>\n",
              "      <th>n_visits</th>\n",
              "      <td>2500.0</td>\n",
              "      <td>94.475600</td>\n",
              "      <td>38.866356</td>\n",
              "      <td>10.0</td>\n",
              "      <td>67.000000</td>\n",
              "      <td>92.000000</td>\n",
              "      <td>119.000000</td>\n",
              "      <td>259.000000</td>\n",
              "    </tr>\n",
              "    <tr>\n",
              "      <th>amount_spent</th>\n",
              "      <td>2500.0</td>\n",
              "      <td>1445.090745</td>\n",
              "      <td>1167.663473</td>\n",
              "      <td>0.0</td>\n",
              "      <td>609.618538</td>\n",
              "      <td>1036.189112</td>\n",
              "      <td>1949.270949</td>\n",
              "      <td>6567.402267</td>\n",
              "    </tr>\n",
              "    <tr>\n",
              "      <th>amount_discount</th>\n",
              "      <td>2500.0</td>\n",
              "      <td>388.508637</td>\n",
              "      <td>487.143968</td>\n",
              "      <td>0.0</td>\n",
              "      <td>56.298615</td>\n",
              "      <td>137.454623</td>\n",
              "      <td>679.540536</td>\n",
              "      <td>2428.406527</td>\n",
              "    </tr>\n",
              "    <tr>\n",
              "      <th>days_since_registration</th>\n",
              "      <td>2500.0</td>\n",
              "      <td>200.973600</td>\n",
              "      <td>99.136618</td>\n",
              "      <td>0.0</td>\n",
              "      <td>130.000000</td>\n",
              "      <td>200.000000</td>\n",
              "      <td>268.000000</td>\n",
              "      <td>514.000000</td>\n",
              "    </tr>\n",
              "    <tr>\n",
              "      <th>profile_information</th>\n",
              "      <td>2500.0</td>\n",
              "      <td>201.040400</td>\n",
              "      <td>100.139213</td>\n",
              "      <td>0.0</td>\n",
              "      <td>132.000000</td>\n",
              "      <td>201.000000</td>\n",
              "      <td>270.000000</td>\n",
              "      <td>585.000000</td>\n",
              "    </tr>\n",
              "  </tbody>\n",
              "</table>\n",
              "</div>\n",
              "      <button class=\"colab-df-convert\" onclick=\"convertToInteractive('df-8a30111d-b0d4-4fa5-94dd-8518a0636ef5')\"\n",
              "              title=\"Convert this dataframe to an interactive table.\"\n",
              "              style=\"display:none;\">\n",
              "        \n",
              "  <svg xmlns=\"http://www.w3.org/2000/svg\" height=\"24px\"viewBox=\"0 0 24 24\"\n",
              "       width=\"24px\">\n",
              "    <path d=\"M0 0h24v24H0V0z\" fill=\"none\"/>\n",
              "    <path d=\"M18.56 5.44l.94 2.06.94-2.06 2.06-.94-2.06-.94-.94-2.06-.94 2.06-2.06.94zm-11 1L8.5 8.5l.94-2.06 2.06-.94-2.06-.94L8.5 2.5l-.94 2.06-2.06.94zm10 10l.94 2.06.94-2.06 2.06-.94-2.06-.94-.94-2.06-.94 2.06-2.06.94z\"/><path d=\"M17.41 7.96l-1.37-1.37c-.4-.4-.92-.59-1.43-.59-.52 0-1.04.2-1.43.59L10.3 9.45l-7.72 7.72c-.78.78-.78 2.05 0 2.83L4 21.41c.39.39.9.59 1.41.59.51 0 1.02-.2 1.41-.59l7.78-7.78 2.81-2.81c.8-.78.8-2.07 0-2.86zM5.41 20L4 18.59l7.72-7.72 1.47 1.35L5.41 20z\"/>\n",
              "  </svg>\n",
              "      </button>\n",
              "      \n",
              "  <style>\n",
              "    .colab-df-container {\n",
              "      display:flex;\n",
              "      flex-wrap:wrap;\n",
              "      gap: 12px;\n",
              "    }\n",
              "\n",
              "    .colab-df-convert {\n",
              "      background-color: #E8F0FE;\n",
              "      border: none;\n",
              "      border-radius: 50%;\n",
              "      cursor: pointer;\n",
              "      display: none;\n",
              "      fill: #1967D2;\n",
              "      height: 32px;\n",
              "      padding: 0 0 0 0;\n",
              "      width: 32px;\n",
              "    }\n",
              "\n",
              "    .colab-df-convert:hover {\n",
              "      background-color: #E2EBFA;\n",
              "      box-shadow: 0px 1px 2px rgba(60, 64, 67, 0.3), 0px 1px 3px 1px rgba(60, 64, 67, 0.15);\n",
              "      fill: #174EA6;\n",
              "    }\n",
              "\n",
              "    [theme=dark] .colab-df-convert {\n",
              "      background-color: #3B4455;\n",
              "      fill: #D2E3FC;\n",
              "    }\n",
              "\n",
              "    [theme=dark] .colab-df-convert:hover {\n",
              "      background-color: #434B5C;\n",
              "      box-shadow: 0px 1px 3px 1px rgba(0, 0, 0, 0.15);\n",
              "      filter: drop-shadow(0px 1px 2px rgba(0, 0, 0, 0.3));\n",
              "      fill: #FFFFFF;\n",
              "    }\n",
              "  </style>\n",
              "\n",
              "      <script>\n",
              "        const buttonEl =\n",
              "          document.querySelector('#df-8a30111d-b0d4-4fa5-94dd-8518a0636ef5 button.colab-df-convert');\n",
              "        buttonEl.style.display =\n",
              "          google.colab.kernel.accessAllowed ? 'block' : 'none';\n",
              "\n",
              "        async function convertToInteractive(key) {\n",
              "          const element = document.querySelector('#df-8a30111d-b0d4-4fa5-94dd-8518a0636ef5');\n",
              "          const dataTable =\n",
              "            await google.colab.kernel.invokeFunction('convertToInteractive',\n",
              "                                                     [key], {});\n",
              "          if (!dataTable) return;\n",
              "\n",
              "          const docLinkHtml = 'Like what you see? Visit the ' +\n",
              "            '<a target=\"_blank\" href=https://colab.research.google.com/notebooks/data_table.ipynb>data table notebook</a>'\n",
              "            + ' to learn more about interactive tables.';\n",
              "          element.innerHTML = '';\n",
              "          dataTable['output_type'] = 'display_data';\n",
              "          await google.colab.output.renderOutput(dataTable, element);\n",
              "          const docLink = document.createElement('div');\n",
              "          docLink.innerHTML = docLinkHtml;\n",
              "          element.appendChild(docLink);\n",
              "        }\n",
              "      </script>\n",
              "    </div>\n",
              "  </div>\n",
              "  "
            ]
          },
          "metadata": {},
          "execution_count": 68
        }
      ],
      "source": [
        "X.describe().T"
      ]
    },
    {
      "cell_type": "markdown",
      "id": "29f15930",
      "metadata": {
        "id": "29f15930"
      },
      "source": [
        "Some key observations from the above 5-point summary-\n",
        "\n",
        "- No misisng values in any of our features.\n",
        "- Highest difference between median and mean values of amount_discount. This indicates the presence of outliers.\n"
      ]
    },
    {
      "cell_type": "markdown",
      "id": "336b7f30",
      "metadata": {
        "id": "336b7f30"
      },
      "source": [
        "#### As our most of the features in our dataset have different scales and the distance metric we compute will be a combination of all of them, we do not want our model to give more importance to higher numbers and vice versa. Hence we will perform mean centering and variance scaling on our data."
      ]
    },
    {
      "cell_type": "code",
      "execution_count": null,
      "id": "fdbff302",
      "metadata": {
        "id": "fdbff302"
      },
      "outputs": [],
      "source": [
        "from sklearn.preprocessing import StandardScaler\n",
        "scaler = StandardScaler()\n",
        "scaler.fit(X)\n",
        "X=scaler.transform(X)"
      ]
    },
    {
      "cell_type": "code",
      "source": [
        "X"
      ],
      "metadata": {
        "colab": {
          "base_uri": "https://localhost:8080/"
        },
        "id": "2dyWdbTRqWTW",
        "outputId": "f992348e-8020-4fe2-e865-e164987a9932"
      },
      "id": "2dyWdbTRqWTW",
      "execution_count": null,
      "outputs": [
        {
          "output_type": "execute_result",
          "data": {
            "text/plain": [
              "array([[-1.49525046, -0.75853514, -1.05461141, -0.73280039,  0.32311781,\n",
              "         0.33919174],\n",
              "       [ 0.72069055, -1.24748762, -0.69029218, -0.78600183,  0.27267227,\n",
              "        -0.31003449],\n",
              "       [ 0.59728463,  0.19363547, -0.24642848,  0.93587151,  0.46436533,\n",
              "         2.07712043],\n",
              "       ...,\n",
              "       [-0.18070918,  0.42524454, -1.2378394 , -0.7976828 , -1.18015931,\n",
              "         2.52658475],\n",
              "       [-0.73871854, -1.60776839,  1.49508613, -0.63726061, -0.90775339,\n",
              "         0.13942982],\n",
              "       [ 2.17473416,  0.73405663, -0.04325887,  1.38982053,  0.47445444,\n",
              "        -0.51978451]])"
            ]
          },
          "metadata": {},
          "execution_count": 70
        }
      ]
    },
    {
      "cell_type": "markdown",
      "id": "cd654d0c",
      "metadata": {
        "id": "cd654d0c"
      },
      "source": [
        "### Building the clustering model with an arbitary value of k (Number of clusters)"
      ]
    },
    {
      "cell_type": "code",
      "execution_count": null,
      "id": "1ee354ac",
      "metadata": {
        "id": "1ee354ac"
      },
      "outputs": [],
      "source": [
        "from sklearn.cluster import KMeans\n",
        "k = 4 ## arbitrary value at the beginning. We explore different methods to select best value of k, later in the study.\n",
        "kmeans = KMeans(n_clusters=k)\n",
        "y_pred = kmeans.fit_predict(X)"
      ]
    },
    {
      "cell_type": "markdown",
      "id": "9f2f60fd",
      "metadata": {
        "id": "9f2f60fd"
      },
      "source": [
        "### The learned clusters number/labels"
      ]
    },
    {
      "cell_type": "code",
      "execution_count": null,
      "id": "997f2cf5",
      "metadata": {
        "colab": {
          "base_uri": "https://localhost:8080/"
        },
        "id": "997f2cf5",
        "outputId": "4b15209f-28fd-4840-a7c5-0f68fbc6fad9"
      },
      "outputs": [
        {
          "output_type": "execute_result",
          "data": {
            "text/plain": [
              "array([0, 0, 1, ..., 2, 3, 1], dtype=int32)"
            ]
          },
          "metadata": {},
          "execution_count": 75
        }
      ],
      "source": [
        "y_pred"
      ]
    },
    {
      "cell_type": "markdown",
      "id": "b2f97337",
      "metadata": {
        "id": "b2f97337"
      },
      "source": [
        "#### y_pred gives us the list of all the cluster indices"
      ]
    },
    {
      "cell_type": "markdown",
      "id": "a48ab43a",
      "metadata": {
        "id": "a48ab43a"
      },
      "source": [
        "### Coordinates of the cluster centers or centroids"
      ]
    },
    {
      "cell_type": "code",
      "execution_count": null,
      "id": "16175d8d",
      "metadata": {
        "colab": {
          "base_uri": "https://localhost:8080/"
        },
        "id": "16175d8d",
        "outputId": "efbe79d3-e126-4066-80c6-6a1160475ec3"
      },
      "outputs": [
        {
          "output_type": "execute_result",
          "data": {
            "text/plain": [
              "array([[-0.1028453 , -0.21316367, -0.62607964, -0.47661202, -0.78066202,\n",
              "        -0.02816393],\n",
              "       [-0.84613876, -0.69485109,  1.61877747, -0.62844786, -0.03170457,\n",
              "         0.13929865],\n",
              "       [ 1.03741744,  0.88188429, -0.0296726 ,  1.51886906, -0.01326149,\n",
              "        -0.01503239],\n",
              "       [-0.19054869, -0.04305592, -0.62964535, -0.42760056,  0.90450663,\n",
              "        -0.07050805]])"
            ]
          },
          "metadata": {},
          "execution_count": 73
        }
      ],
      "source": [
        "kmeans.cluster_centers_"
      ]
    },
    {
      "cell_type": "code",
      "execution_count": null,
      "id": "1d692027",
      "metadata": {
        "colab": {
          "base_uri": "https://localhost:8080/"
        },
        "id": "1d692027",
        "outputId": "0adc8620-cf32-4392-e06a-f3b1c5249f49"
      },
      "outputs": [
        {
          "output_type": "execute_result",
          "data": {
            "text/plain": [
              "True"
            ]
          },
          "metadata": {},
          "execution_count": 76
        }
      ],
      "source": [
        "y_pred is kmeans.labels_"
      ]
    },
    {
      "cell_type": "markdown",
      "id": "1f531301",
      "metadata": {
        "id": "1f531301"
      },
      "source": [
        "### Now let us visualize our clusters"
      ]
    },
    {
      "cell_type": "code",
      "execution_count": null,
      "id": "11fc8d53",
      "metadata": {
        "colab": {
          "base_uri": "https://localhost:8080/",
          "height": 424
        },
        "id": "11fc8d53",
        "outputId": "d5e77255-b1cc-477e-d2ab-078a173f4cf1"
      },
      "outputs": [
        {
          "output_type": "execute_result",
          "data": {
            "text/plain": [
              "      n_clicks  n_visits  amount_spent  amount_discount  \\\n",
              "0    -1.495250 -0.758535     -1.054611        -0.732800   \n",
              "1     0.720691 -1.247488     -0.690292        -0.786002   \n",
              "2     0.597285  0.193635     -0.246428         0.935872   \n",
              "3     1.573801 -0.295317     -0.213449         0.947616   \n",
              "4    -1.006992 -0.269583     -1.083008        -0.665697   \n",
              "...        ...       ...           ...              ...   \n",
              "2495  2.121079  0.656854     -0.807284        -0.030993   \n",
              "2496  0.393397 -0.887207     -0.783838        -0.545880   \n",
              "2497 -0.180709  0.425245     -1.237839        -0.797683   \n",
              "2498 -0.738719 -1.607768      1.495086        -0.637261   \n",
              "2499  2.174734  0.734057     -0.043259         1.389821   \n",
              "\n",
              "      days_since_registration  profile_information  label  \n",
              "0                    0.323118             0.339192      0  \n",
              "1                    0.272672            -0.310034      0  \n",
              "2                    0.464365             2.077120      1  \n",
              "3                   -0.534456            -0.010392      1  \n",
              "4                    0.424009             0.578906      0  \n",
              "...                       ...                  ...    ...  \n",
              "2495                 1.634702            -0.939285      0  \n",
              "2496                -0.897664             1.527775      2  \n",
              "2497                -1.180159             2.526585      2  \n",
              "2498                -0.907753             0.139430      3  \n",
              "2499                 0.474454            -0.519785      1  \n",
              "\n",
              "[2500 rows x 7 columns]"
            ],
            "text/html": [
              "\n",
              "  <div id=\"df-187386c4-28b5-4889-99ec-9e6f47eb9ed6\">\n",
              "    <div class=\"colab-df-container\">\n",
              "      <div>\n",
              "<style scoped>\n",
              "    .dataframe tbody tr th:only-of-type {\n",
              "        vertical-align: middle;\n",
              "    }\n",
              "\n",
              "    .dataframe tbody tr th {\n",
              "        vertical-align: top;\n",
              "    }\n",
              "\n",
              "    .dataframe thead th {\n",
              "        text-align: right;\n",
              "    }\n",
              "</style>\n",
              "<table border=\"1\" class=\"dataframe\">\n",
              "  <thead>\n",
              "    <tr style=\"text-align: right;\">\n",
              "      <th></th>\n",
              "      <th>n_clicks</th>\n",
              "      <th>n_visits</th>\n",
              "      <th>amount_spent</th>\n",
              "      <th>amount_discount</th>\n",
              "      <th>days_since_registration</th>\n",
              "      <th>profile_information</th>\n",
              "      <th>label</th>\n",
              "    </tr>\n",
              "  </thead>\n",
              "  <tbody>\n",
              "    <tr>\n",
              "      <th>0</th>\n",
              "      <td>-1.495250</td>\n",
              "      <td>-0.758535</td>\n",
              "      <td>-1.054611</td>\n",
              "      <td>-0.732800</td>\n",
              "      <td>0.323118</td>\n",
              "      <td>0.339192</td>\n",
              "      <td>0</td>\n",
              "    </tr>\n",
              "    <tr>\n",
              "      <th>1</th>\n",
              "      <td>0.720691</td>\n",
              "      <td>-1.247488</td>\n",
              "      <td>-0.690292</td>\n",
              "      <td>-0.786002</td>\n",
              "      <td>0.272672</td>\n",
              "      <td>-0.310034</td>\n",
              "      <td>0</td>\n",
              "    </tr>\n",
              "    <tr>\n",
              "      <th>2</th>\n",
              "      <td>0.597285</td>\n",
              "      <td>0.193635</td>\n",
              "      <td>-0.246428</td>\n",
              "      <td>0.935872</td>\n",
              "      <td>0.464365</td>\n",
              "      <td>2.077120</td>\n",
              "      <td>1</td>\n",
              "    </tr>\n",
              "    <tr>\n",
              "      <th>3</th>\n",
              "      <td>1.573801</td>\n",
              "      <td>-0.295317</td>\n",
              "      <td>-0.213449</td>\n",
              "      <td>0.947616</td>\n",
              "      <td>-0.534456</td>\n",
              "      <td>-0.010392</td>\n",
              "      <td>1</td>\n",
              "    </tr>\n",
              "    <tr>\n",
              "      <th>4</th>\n",
              "      <td>-1.006992</td>\n",
              "      <td>-0.269583</td>\n",
              "      <td>-1.083008</td>\n",
              "      <td>-0.665697</td>\n",
              "      <td>0.424009</td>\n",
              "      <td>0.578906</td>\n",
              "      <td>0</td>\n",
              "    </tr>\n",
              "    <tr>\n",
              "      <th>...</th>\n",
              "      <td>...</td>\n",
              "      <td>...</td>\n",
              "      <td>...</td>\n",
              "      <td>...</td>\n",
              "      <td>...</td>\n",
              "      <td>...</td>\n",
              "      <td>...</td>\n",
              "    </tr>\n",
              "    <tr>\n",
              "      <th>2495</th>\n",
              "      <td>2.121079</td>\n",
              "      <td>0.656854</td>\n",
              "      <td>-0.807284</td>\n",
              "      <td>-0.030993</td>\n",
              "      <td>1.634702</td>\n",
              "      <td>-0.939285</td>\n",
              "      <td>0</td>\n",
              "    </tr>\n",
              "    <tr>\n",
              "      <th>2496</th>\n",
              "      <td>0.393397</td>\n",
              "      <td>-0.887207</td>\n",
              "      <td>-0.783838</td>\n",
              "      <td>-0.545880</td>\n",
              "      <td>-0.897664</td>\n",
              "      <td>1.527775</td>\n",
              "      <td>2</td>\n",
              "    </tr>\n",
              "    <tr>\n",
              "      <th>2497</th>\n",
              "      <td>-0.180709</td>\n",
              "      <td>0.425245</td>\n",
              "      <td>-1.237839</td>\n",
              "      <td>-0.797683</td>\n",
              "      <td>-1.180159</td>\n",
              "      <td>2.526585</td>\n",
              "      <td>2</td>\n",
              "    </tr>\n",
              "    <tr>\n",
              "      <th>2498</th>\n",
              "      <td>-0.738719</td>\n",
              "      <td>-1.607768</td>\n",
              "      <td>1.495086</td>\n",
              "      <td>-0.637261</td>\n",
              "      <td>-0.907753</td>\n",
              "      <td>0.139430</td>\n",
              "      <td>3</td>\n",
              "    </tr>\n",
              "    <tr>\n",
              "      <th>2499</th>\n",
              "      <td>2.174734</td>\n",
              "      <td>0.734057</td>\n",
              "      <td>-0.043259</td>\n",
              "      <td>1.389821</td>\n",
              "      <td>0.474454</td>\n",
              "      <td>-0.519785</td>\n",
              "      <td>1</td>\n",
              "    </tr>\n",
              "  </tbody>\n",
              "</table>\n",
              "<p>2500 rows × 7 columns</p>\n",
              "</div>\n",
              "      <button class=\"colab-df-convert\" onclick=\"convertToInteractive('df-187386c4-28b5-4889-99ec-9e6f47eb9ed6')\"\n",
              "              title=\"Convert this dataframe to an interactive table.\"\n",
              "              style=\"display:none;\">\n",
              "        \n",
              "  <svg xmlns=\"http://www.w3.org/2000/svg\" height=\"24px\"viewBox=\"0 0 24 24\"\n",
              "       width=\"24px\">\n",
              "    <path d=\"M0 0h24v24H0V0z\" fill=\"none\"/>\n",
              "    <path d=\"M18.56 5.44l.94 2.06.94-2.06 2.06-.94-2.06-.94-.94-2.06-.94 2.06-2.06.94zm-11 1L8.5 8.5l.94-2.06 2.06-.94-2.06-.94L8.5 2.5l-.94 2.06-2.06.94zm10 10l.94 2.06.94-2.06 2.06-.94-2.06-.94-.94-2.06-.94 2.06-2.06.94z\"/><path d=\"M17.41 7.96l-1.37-1.37c-.4-.4-.92-.59-1.43-.59-.52 0-1.04.2-1.43.59L10.3 9.45l-7.72 7.72c-.78.78-.78 2.05 0 2.83L4 21.41c.39.39.9.59 1.41.59.51 0 1.02-.2 1.41-.59l7.78-7.78 2.81-2.81c.8-.78.8-2.07 0-2.86zM5.41 20L4 18.59l7.72-7.72 1.47 1.35L5.41 20z\"/>\n",
              "  </svg>\n",
              "      </button>\n",
              "      \n",
              "  <style>\n",
              "    .colab-df-container {\n",
              "      display:flex;\n",
              "      flex-wrap:wrap;\n",
              "      gap: 12px;\n",
              "    }\n",
              "\n",
              "    .colab-df-convert {\n",
              "      background-color: #E8F0FE;\n",
              "      border: none;\n",
              "      border-radius: 50%;\n",
              "      cursor: pointer;\n",
              "      display: none;\n",
              "      fill: #1967D2;\n",
              "      height: 32px;\n",
              "      padding: 0 0 0 0;\n",
              "      width: 32px;\n",
              "    }\n",
              "\n",
              "    .colab-df-convert:hover {\n",
              "      background-color: #E2EBFA;\n",
              "      box-shadow: 0px 1px 2px rgba(60, 64, 67, 0.3), 0px 1px 3px 1px rgba(60, 64, 67, 0.15);\n",
              "      fill: #174EA6;\n",
              "    }\n",
              "\n",
              "    [theme=dark] .colab-df-convert {\n",
              "      background-color: #3B4455;\n",
              "      fill: #D2E3FC;\n",
              "    }\n",
              "\n",
              "    [theme=dark] .colab-df-convert:hover {\n",
              "      background-color: #434B5C;\n",
              "      box-shadow: 0px 1px 3px 1px rgba(0, 0, 0, 0.15);\n",
              "      filter: drop-shadow(0px 1px 2px rgba(0, 0, 0, 0.3));\n",
              "      fill: #FFFFFF;\n",
              "    }\n",
              "  </style>\n",
              "\n",
              "      <script>\n",
              "        const buttonEl =\n",
              "          document.querySelector('#df-187386c4-28b5-4889-99ec-9e6f47eb9ed6 button.colab-df-convert');\n",
              "        buttonEl.style.display =\n",
              "          google.colab.kernel.accessAllowed ? 'block' : 'none';\n",
              "\n",
              "        async function convertToInteractive(key) {\n",
              "          const element = document.querySelector('#df-187386c4-28b5-4889-99ec-9e6f47eb9ed6');\n",
              "          const dataTable =\n",
              "            await google.colab.kernel.invokeFunction('convertToInteractive',\n",
              "                                                     [key], {});\n",
              "          if (!dataTable) return;\n",
              "\n",
              "          const docLinkHtml = 'Like what you see? Visit the ' +\n",
              "            '<a target=\"_blank\" href=https://colab.research.google.com/notebooks/data_table.ipynb>data table notebook</a>'\n",
              "            + ' to learn more about interactive tables.';\n",
              "          element.innerHTML = '';\n",
              "          dataTable['output_type'] = 'display_data';\n",
              "          await google.colab.output.renderOutput(dataTable, element);\n",
              "          const docLink = document.createElement('div');\n",
              "          docLink.innerHTML = docLinkHtml;\n",
              "          element.appendChild(docLink);\n",
              "        }\n",
              "      </script>\n",
              "    </div>\n",
              "  </div>\n",
              "  "
            ]
          },
          "metadata": {},
          "execution_count": 78
        }
      ],
      "source": [
        "clusters = pd.DataFrame(X, columns=df.drop(\"ID\",axis=1).columns)\n",
        "clusters['label'] = kmeans.labels_\n",
        "clusters"
      ]
    },
    {
      "cell_type": "code",
      "execution_count": null,
      "id": "fb0be961",
      "metadata": {
        "colab": {
          "base_uri": "https://localhost:8080/",
          "height": 265
        },
        "id": "fb0be961",
        "outputId": "361bc00e-d404-4f62-f762-96769a0eed46"
      },
      "outputs": [
        {
          "output_type": "display_data",
          "data": {
            "text/plain": [
              "<Figure size 432x288 with 1 Axes>"
            ],
            "image/png": "[encoded data removed]"
          },
          "metadata": {
            "needs_background": "light"
          }
        }
      ],
      "source": [
        "def viz_clusters(kmeans):\n",
        "    plt.scatter(clusters['n_clicks'], clusters['n_visits'], c=clusters['label'])\n",
        "    plt.scatter(kmeans.cluster_centers_[:, 0], kmeans.cluster_centers_[:, 1],\n",
        "                color=\"red\",\n",
        "                marker=\"X\",\n",
        "                s=100)\n",
        "    \n",
        "viz_clusters(kmeans)"
      ]
    },
    {
      "cell_type": "markdown",
      "id": "f8f86a1f",
      "metadata": {
        "id": "f8f86a1f"
      },
      "source": [
        "In the scatter plot , first we take two features and plot our \n",
        "datapoints. In the second plot we plot the cluster centroids (red points).\n",
        "\n",
        "We note that 2 centroids are very close to each other , which means 2 clusters have overlapping characteristics.\n",
        "\n",
        "The issue with this plot is that can only visualize 2 features at a point and also we can interpret this plot easily to segment our customer base."
      ]
    },
    {
      "cell_type": "markdown",
      "id": "ea852ff0",
      "metadata": {
        "id": "ea852ff0"
      },
      "source": [
        "### Polar Plots for cluster visualization"
      ]
    },
    {
      "cell_type": "markdown",
      "id": "81c67fd4",
      "metadata": {
        "id": "81c67fd4"
      },
      "source": [
        "### The better way to visualize and interpret our clusters is using the polar plots."
      ]
    },
    {
      "cell_type": "code",
      "execution_count": null,
      "id": "caaa029f",
      "metadata": {
        "colab": {
          "base_uri": "https://localhost:8080/",
          "height": 802
        },
        "id": "caaa029f",
        "outputId": "09c434a3-7676-402c-adfa-d99bdb4022f4"
      },
      "outputs": [
        {
          "output_type": "execute_result",
          "data": {
            "text/plain": [
              "    label                 variable     value\n",
              "0       0                 n_clicks -0.189806\n",
              "1       1                 n_clicks  1.039289\n",
              "2       2                 n_clicks -0.103889\n",
              "3       3                 n_clicks -0.847289\n",
              "4       0                 n_visits -0.031718\n",
              "5       1                 n_visits  0.880560\n",
              "6       2                 n_visits -0.226174\n",
              "7       3                 n_visits -0.694877\n",
              "8       0             amount_spent -0.626957\n",
              "9       1             amount_spent -0.030690\n",
              "10      2             amount_spent -0.625477\n",
              "11      3             amount_spent  1.620195\n",
              "12      0          amount_discount -0.428195\n",
              "13      1          amount_discount  1.517094\n",
              "14      2          amount_discount -0.475564\n",
              "15      3          amount_discount -0.628408\n",
              "16      0  days_since_registration  0.889319\n",
              "17      1  days_since_registration -0.011607\n",
              "18      2  days_since_registration -0.796904\n",
              "19      3  days_since_registration -0.030437\n",
              "20      0      profile_information -0.023053\n",
              "21      1      profile_information -0.018485\n",
              "22      2      profile_information -0.069143\n",
              "23      3      profile_information  0.140237"
            ],
            "text/html": [
              "\n",
              "  <div id=\"df-553c835d-3ce9-42e4-b311-aacbd20bb29f\">\n",
              "    <div class=\"colab-df-container\">\n",
              "      <div>\n",
              "<style scoped>\n",
              "    .dataframe tbody tr th:only-of-type {\n",
              "        vertical-align: middle;\n",
              "    }\n",
              "\n",
              "    .dataframe tbody tr th {\n",
              "        vertical-align: top;\n",
              "    }\n",
              "\n",
              "    .dataframe thead th {\n",
              "        text-align: right;\n",
              "    }\n",
              "</style>\n",
              "<table border=\"1\" class=\"dataframe\">\n",
              "  <thead>\n",
              "    <tr style=\"text-align: right;\">\n",
              "      <th></th>\n",
              "      <th>label</th>\n",
              "      <th>variable</th>\n",
              "      <th>value</th>\n",
              "    </tr>\n",
              "  </thead>\n",
              "  <tbody>\n",
              "    <tr>\n",
              "      <th>0</th>\n",
              "      <td>0</td>\n",
              "      <td>n_clicks</td>\n",
              "      <td>-0.189806</td>\n",
              "    </tr>\n",
              "    <tr>\n",
              "      <th>1</th>\n",
              "      <td>1</td>\n",
              "      <td>n_clicks</td>\n",
              "      <td>1.039289</td>\n",
              "    </tr>\n",
              "    <tr>\n",
              "      <th>2</th>\n",
              "      <td>2</td>\n",
              "      <td>n_clicks</td>\n",
              "      <td>-0.103889</td>\n",
              "    </tr>\n",
              "    <tr>\n",
              "      <th>3</th>\n",
              "      <td>3</td>\n",
              "      <td>n_clicks</td>\n",
              "      <td>-0.847289</td>\n",
              "    </tr>\n",
              "    <tr>\n",
              "      <th>4</th>\n",
              "      <td>0</td>\n",
              "      <td>n_visits</td>\n",
              "      <td>-0.031718</td>\n",
              "    </tr>\n",
              "    <tr>\n",
              "      <th>5</th>\n",
              "      <td>1</td>\n",
              "      <td>n_visits</td>\n",
              "      <td>0.880560</td>\n",
              "    </tr>\n",
              "    <tr>\n",
              "      <th>6</th>\n",
              "      <td>2</td>\n",
              "      <td>n_visits</td>\n",
              "      <td>-0.226174</td>\n",
              "    </tr>\n",
              "    <tr>\n",
              "      <th>7</th>\n",
              "      <td>3</td>\n",
              "      <td>n_visits</td>\n",
              "      <td>-0.694877</td>\n",
              "    </tr>\n",
              "    <tr>\n",
              "      <th>8</th>\n",
              "      <td>0</td>\n",
              "      <td>amount_spent</td>\n",
              "      <td>-0.626957</td>\n",
              "    </tr>\n",
              "    <tr>\n",
              "      <th>9</th>\n",
              "      <td>1</td>\n",
              "      <td>amount_spent</td>\n",
              "      <td>-0.030690</td>\n",
              "    </tr>\n",
              "    <tr>\n",
              "      <th>10</th>\n",
              "      <td>2</td>\n",
              "      <td>amount_spent</td>\n",
              "      <td>-0.625477</td>\n",
              "    </tr>\n",
              "    <tr>\n",
              "      <th>11</th>\n",
              "      <td>3</td>\n",
              "      <td>amount_spent</td>\n",
              "      <td>1.620195</td>\n",
              "    </tr>\n",
              "    <tr>\n",
              "      <th>12</th>\n",
              "      <td>0</td>\n",
              "      <td>amount_discount</td>\n",
              "      <td>-0.428195</td>\n",
              "    </tr>\n",
              "    <tr>\n",
              "      <th>13</th>\n",
              "      <td>1</td>\n",
              "      <td>amount_discount</td>\n",
              "      <td>1.517094</td>\n",
              "    </tr>\n",
              "    <tr>\n",
              "      <th>14</th>\n",
              "      <td>2</td>\n",
              "      <td>amount_discount</td>\n",
              "      <td>-0.475564</td>\n",
              "    </tr>\n",
              "    <tr>\n",
              "      <th>15</th>\n",
              "      <td>3</td>\n",
              "      <td>amount_discount</td>\n",
              "      <td>-0.628408</td>\n",
              "    </tr>\n",
              "    <tr>\n",
              "      <th>16</th>\n",
              "      <td>0</td>\n",
              "      <td>days_since_registration</td>\n",
              "      <td>0.889319</td>\n",
              "    </tr>\n",
              "    <tr>\n",
              "      <th>17</th>\n",
              "      <td>1</td>\n",
              "      <td>days_since_registration</td>\n",
              "      <td>-0.011607</td>\n",
              "    </tr>\n",
              "    <tr>\n",
              "      <th>18</th>\n",
              "      <td>2</td>\n",
              "      <td>days_since_registration</td>\n",
              "      <td>-0.796904</td>\n",
              "    </tr>\n",
              "    <tr>\n",
              "      <th>19</th>\n",
              "      <td>3</td>\n",
              "      <td>days_since_registration</td>\n",
              "      <td>-0.030437</td>\n",
              "    </tr>\n",
              "    <tr>\n",
              "      <th>20</th>\n",
              "      <td>0</td>\n",
              "      <td>profile_information</td>\n",
              "      <td>-0.023053</td>\n",
              "    </tr>\n",
              "    <tr>\n",
              "      <th>21</th>\n",
              "      <td>1</td>\n",
              "      <td>profile_information</td>\n",
              "      <td>-0.018485</td>\n",
              "    </tr>\n",
              "    <tr>\n",
              "      <th>22</th>\n",
              "      <td>2</td>\n",
              "      <td>profile_information</td>\n",
              "      <td>-0.069143</td>\n",
              "    </tr>\n",
              "    <tr>\n",
              "      <th>23</th>\n",
              "      <td>3</td>\n",
              "      <td>profile_information</td>\n",
              "      <td>0.140237</td>\n",
              "    </tr>\n",
              "  </tbody>\n",
              "</table>\n",
              "</div>\n",
              "      <button class=\"colab-df-convert\" onclick=\"convertToInteractive('df-553c835d-3ce9-42e4-b311-aacbd20bb29f')\"\n",
              "              title=\"Convert this dataframe to an interactive table.\"\n",
              "              style=\"display:none;\">\n",
              "        \n",
              "  <svg xmlns=\"http://www.w3.org/2000/svg\" height=\"24px\"viewBox=\"0 0 24 24\"\n",
              "       width=\"24px\">\n",
              "    <path d=\"M0 0h24v24H0V0z\" fill=\"none\"/>\n",
              "    <path d=\"M18.56 5.44l.94 2.06.94-2.06 2.06-.94-2.06-.94-.94-2.06-.94 2.06-2.06.94zm-11 1L8.5 8.5l.94-2.06 2.06-.94-2.06-.94L8.5 2.5l-.94 2.06-2.06.94zm10 10l.94 2.06.94-2.06 2.06-.94-2.06-.94-.94-2.06-.94 2.06-2.06.94z\"/><path d=\"M17.41 7.96l-1.37-1.37c-.4-.4-.92-.59-1.43-.59-.52 0-1.04.2-1.43.59L10.3 9.45l-7.72 7.72c-.78.78-.78 2.05 0 2.83L4 21.41c.39.39.9.59 1.41.59.51 0 1.02-.2 1.41-.59l7.78-7.78 2.81-2.81c.8-.78.8-2.07 0-2.86zM5.41 20L4 18.59l7.72-7.72 1.47 1.35L5.41 20z\"/>\n",
              "  </svg>\n",
              "      </button>\n",
              "      \n",
              "  <style>\n",
              "    .colab-df-container {\n",
              "      display:flex;\n",
              "      flex-wrap:wrap;\n",
              "      gap: 12px;\n",
              "    }\n",
              "\n",
              "    .colab-df-convert {\n",
              "      background-color: #E8F0FE;\n",
              "      border: none;\n",
              "      border-radius: 50%;\n",
              "      cursor: pointer;\n",
              "      display: none;\n",
              "      fill: #1967D2;\n",
              "      height: 32px;\n",
              "      padding: 0 0 0 0;\n",
              "      width: 32px;\n",
              "    }\n",
              "\n",
              "    .colab-df-convert:hover {\n",
              "      background-color: #E2EBFA;\n",
              "      box-shadow: 0px 1px 2px rgba(60, 64, 67, 0.3), 0px 1px 3px 1px rgba(60, 64, 67, 0.15);\n",
              "      fill: #174EA6;\n",
              "    }\n",
              "\n",
              "    [theme=dark] .colab-df-convert {\n",
              "      background-color: #3B4455;\n",
              "      fill: #D2E3FC;\n",
              "    }\n",
              "\n",
              "    [theme=dark] .colab-df-convert:hover {\n",
              "      background-color: #434B5C;\n",
              "      box-shadow: 0px 1px 3px 1px rgba(0, 0, 0, 0.15);\n",
              "      filter: drop-shadow(0px 1px 2px rgba(0, 0, 0, 0.3));\n",
              "      fill: #FFFFFF;\n",
              "    }\n",
              "  </style>\n",
              "\n",
              "      <script>\n",
              "        const buttonEl =\n",
              "          document.querySelector('#df-553c835d-3ce9-42e4-b311-aacbd20bb29f button.colab-df-convert');\n",
              "        buttonEl.style.display =\n",
              "          google.colab.kernel.accessAllowed ? 'block' : 'none';\n",
              "\n",
              "        async function convertToInteractive(key) {\n",
              "          const element = document.querySelector('#df-553c835d-3ce9-42e4-b311-aacbd20bb29f');\n",
              "          const dataTable =\n",
              "            await google.colab.kernel.invokeFunction('convertToInteractive',\n",
              "                                                     [key], {});\n",
              "          if (!dataTable) return;\n",
              "\n",
              "          const docLinkHtml = 'Like what you see? Visit the ' +\n",
              "            '<a target=\"_blank\" href=https://colab.research.google.com/notebooks/data_table.ipynb>data table notebook</a>'\n",
              "            + ' to learn more about interactive tables.';\n",
              "          element.innerHTML = '';\n",
              "          dataTable['output_type'] = 'display_data';\n",
              "          await google.colab.output.renderOutput(dataTable, element);\n",
              "          const docLink = document.createElement('div');\n",
              "          docLink.innerHTML = docLinkHtml;\n",
              "          element.appendChild(docLink);\n",
              "        }\n",
              "      </script>\n",
              "    </div>\n",
              "  </div>\n",
              "  "
            ]
          },
          "metadata": {},
          "execution_count": 80
        }
      ],
      "source": [
        "polar = clusters.groupby(\"label\").mean().reset_index()\n",
        "polar = pd.melt(polar, id_vars=[\"label\"])\n",
        "polar"
      ]
    },
    {
      "cell_type": "code",
      "execution_count": null,
      "id": "06797f61",
      "metadata": {
        "colab": {
          "base_uri": "https://localhost:8080/"
        },
        "id": "06797f61",
        "outputId": "23f17b18-bf36-45b1-dc40-53b5902b3eb5"
      },
      "outputs": [
        {
          "output_type": "stream",
          "name": "stdout",
          "text": [
            "Looking in indexes: https://pypi.org/simple, https://us-python.pkg.dev/colab-wheels/public/simple/\n",
            "Requirement already satisfied: plotly in /usr/local/lib/python3.7/dist-packages (5.5.0)\n",
            "Requirement already satisfied: six in /usr/local/lib/python3.7/dist-packages (from plotly) (1.15.0)\n",
            "Requirement already satisfied: tenacity>=6.2.0 in /usr/local/lib/python3.7/dist-packages (from plotly) (8.0.1)\n"
          ]
        }
      ],
      "source": [
        "!pip install plotly"
      ]
    },
    {
      "cell_type": "code",
      "source": [
        "import plotly.express as px\n",
        "fig = px.line_polar(polar, r=\"value\",theta=\"variable\", color=\"label\", line_close=True, height=700, width=800)\n",
        "fig.show()\n"
      ],
      "metadata": {
        "colab": {
          "base_uri": "https://localhost:8080/",
          "height": 717
        },
        "id": "VdEcbGqhYKqo",
        "outputId": "b3cd1d09-018b-4a06-d622-e96ee08e41ad"
      },
      "id": "VdEcbGqhYKqo",
      "execution_count": null,
      "outputs": [
        {
          "output_type": "display_data",
          "data": {
            "text/html": [
              "<html>\n",
              "<head><meta charset=\"utf-8\" /></head>\n",
              "<body>\n",
              "    <div>            <script src=\"https://cdnjs.cloudflare.com/ajax/libs/mathjax/2.7.5/MathJax.js?config=TeX-AMS-MML_SVG\"></script><script type=\"text/javascript\">if (window.MathJax) {MathJax.Hub.Config({SVG: {font: \"STIX-Web\"}});}</script>                <script type=\"text/javascript\">window.PlotlyConfig = {MathJaxConfig: 'local'};</script>\n",
              "        <script src=\"https://cdn.plot.ly/plotly-2.8.3.min.js\"></script>                <div id=\"8c63c299-c064-4e20-981d-7250a2a2c10c\" class=\"plotly-graph-div\" style=\"height:700px; width:800px;\"></div>            <script type=\"text/javascript\">                                    window.PLOTLYENV=window.PLOTLYENV || {};                                    if (document.getElementById(\"8c63c299-c064-4e20-981d-7250a2a2c10c\")) {                    Plotly.newPlot(                        \"8c63c299-c064-4e20-981d-7250a2a2c10c\",                        [{\"hovertemplate\":\"label=0<br>value=%{r}<br>variable=%{theta}<extra></extra>\",\"legendgroup\":\"0\",\"line\":{\"color\":\"#636efa\",\"dash\":\"solid\"},\"marker\":{\"symbol\":\"circle\"},\"mode\":\"lines\",\"name\":\"0\",\"r\":[-0.1898057268569144,-0.03171816905232085,-0.6269574221678753,-0.42819540774397574,0.8893185665210634,-0.02305344732910027,-0.1898057268569144],\"showlegend\":true,\"subplot\":\"polar\",\"theta\":[\"n_clicks\",\"n_visits\",\"amount_spent\",\"amount_discount\",\"days_since_registration\",\"profile_information\",\"n_clicks\"],\"type\":\"scatterpolar\"},{\"hovertemplate\":\"label=1<br>value=%{r}<br>variable=%{theta}<extra></extra>\",\"legendgroup\":\"1\",\"line\":{\"color\":\"#EF553B\",\"dash\":\"solid\"},\"marker\":{\"symbol\":\"circle\"},\"mode\":\"lines\",\"name\":\"1\",\"r\":[1.039289320427364,0.8805603337858936,-0.030690223103605984,1.5170938372606062,-0.011607003167609016,-0.018484863110197838,1.039289320427364],\"showlegend\":true,\"subplot\":\"polar\",\"theta\":[\"n_clicks\",\"n_visits\",\"amount_spent\",\"amount_discount\",\"days_since_registration\",\"profile_information\",\"n_clicks\"],\"type\":\"scatterpolar\"},{\"hovertemplate\":\"label=2<br>value=%{r}<br>variable=%{theta}<extra></extra>\",\"legendgroup\":\"2\",\"line\":{\"color\":\"#00cc96\",\"dash\":\"solid\"},\"marker\":{\"symbol\":\"circle\"},\"mode\":\"lines\",\"name\":\"2\",\"r\":[-0.10388884734503105,-0.22617444874590759,-0.6254772614252541,-0.47556394900697674,-0.796903657484114,-0.06914343199080135,-0.10388884734503105],\"showlegend\":true,\"subplot\":\"polar\",\"theta\":[\"n_clicks\",\"n_visits\",\"amount_spent\",\"amount_discount\",\"days_since_registration\",\"profile_information\",\"n_clicks\"],\"type\":\"scatterpolar\"},{\"hovertemplate\":\"label=3<br>value=%{r}<br>variable=%{theta}<extra></extra>\",\"legendgroup\":\"3\",\"line\":{\"color\":\"#ab63fa\",\"dash\":\"solid\"},\"marker\":{\"symbol\":\"circle\"},\"mode\":\"lines\",\"name\":\"3\",\"r\":[-0.8472887163471513,-0.6948765063978677,1.6201951449840952,-0.6284076000632647,-0.03043715537499101,0.14023713211288696,-0.8472887163471513],\"showlegend\":true,\"subplot\":\"polar\",\"theta\":[\"n_clicks\",\"n_visits\",\"amount_spent\",\"amount_discount\",\"days_since_registration\",\"profile_information\",\"n_clicks\"],\"type\":\"scatterpolar\"}],                        {\"template\":{\"data\":{\"bar\":[{\"error_x\":{\"color\":\"#2a3f5f\"},\"error_y\":{\"color\":\"#2a3f5f\"},\"marker\":{\"line\":{\"color\":\"#E5ECF6\",\"width\":0.5},\"pattern\":{\"fillmode\":\"overlay\",\"size\":10,\"solidity\":0.2}},\"type\":\"bar\"}],\"barpolar\":[{\"marker\":{\"line\":{\"color\":\"#E5ECF6\",\"width\":0.5},\"pattern\":{\"fillmode\":\"overlay\",\"size\":10,\"solidity\":0.2}},\"type\":\"barpolar\"}],\"carpet\":[{\"aaxis\":{\"endlinecolor\":\"#2a3f5f\",\"gridcolor\":\"white\",\"linecolor\":\"white\",\"minorgridcolor\":\"white\",\"startlinecolor\":\"#2a3f5f\"},\"baxis\":{\"endlinecolor\":\"#2a3f5f\",\"gridcolor\":\"white\",\"linecolor\":\"white\",\"minorgridcolor\":\"white\",\"startlinecolor\":\"#2a3f5f\"},\"type\":\"carpet\"}],\"choropleth\":[{\"colorbar\":{\"outlinewidth\":0,\"ticks\":\"\"},\"type\":\"choropleth\"}],\"contour\":[{\"colorbar\":{\"outlinewidth\":0,\"ticks\":\"\"},\"colorscale\":[[0.0,\"#0d0887\"],[0.1111111111111111,\"#46039f\"],[0.2222222222222222,\"#7201a8\"],[0.3333333333333333,\"#9c179e\"],[0.4444444444444444,\"#bd3786\"],[0.5555555555555556,\"#d8576b\"],[0.6666666666666666,\"#ed7953\"],[0.7777777777777778,\"#fb9f3a\"],[0.8888888888888888,\"#fdca26\"],[1.0,\"#f0f921\"]],\"type\":\"contour\"}],\"contourcarpet\":[{\"colorbar\":{\"outlinewidth\":0,\"ticks\":\"\"},\"type\":\"contourcarpet\"}],\"heatmap\":[{\"colorbar\":{\"outlinewidth\":0,\"ticks\":\"\"},\"colorscale\":[[0.0,\"#0d0887\"],[0.1111111111111111,\"#46039f\"],[0.2222222222222222,\"#7201a8\"],[0.3333333333333333,\"#9c179e\"],[0.4444444444444444,\"#bd3786\"],[0.5555555555555556,\"#d8576b\"],[0.6666666666666666,\"#ed7953\"],[0.7777777777777778,\"#fb9f3a\"],[0.8888888888888888,\"#fdca26\"],[1.0,\"#f0f921\"]],\"type\":\"heatmap\"}],\"heatmapgl\":[{\"colorbar\":{\"outlinewidth\":0,\"ticks\":\"\"},\"colorscale\":[[0.0,\"#0d0887\"],[0.1111111111111111,\"#46039f\"],[0.2222222222222222,\"#7201a8\"],[0.3333333333333333,\"#9c179e\"],[0.4444444444444444,\"#bd3786\"],[0.5555555555555556,\"#d8576b\"],[0.6666666666666666,\"#ed7953\"],[0.7777777777777778,\"#fb9f3a\"],[0.8888888888888888,\"#fdca26\"],[1.0,\"#f0f921\"]],\"type\":\"heatmapgl\"}],\"histogram\":[{\"marker\":{\"pattern\":{\"fillmode\":\"overlay\",\"size\":10,\"solidity\":0.2}},\"type\":\"histogram\"}],\"histogram2d\":[{\"colorbar\":{\"outlinewidth\":0,\"ticks\":\"\"},\"colorscale\":[[0.0,\"#0d0887\"],[0.1111111111111111,\"#46039f\"],[0.2222222222222222,\"#7201a8\"],[0.3333333333333333,\"#9c179e\"],[0.4444444444444444,\"#bd3786\"],[0.5555555555555556,\"#d8576b\"],[0.6666666666666666,\"#ed7953\"],[0.7777777777777778,\"#fb9f3a\"],[0.8888888888888888,\"#fdca26\"],[1.0,\"#f0f921\"]],\"type\":\"histogram2d\"}],\"histogram2dcontour\":[{\"colorbar\":{\"outlinewidth\":0,\"ticks\":\"\"},\"colorscale\":[[0.0,\"#0d0887\"],[0.1111111111111111,\"#46039f\"],[0.2222222222222222,\"#7201a8\"],[0.3333333333333333,\"#9c179e\"],[0.4444444444444444,\"#bd3786\"],[0.5555555555555556,\"#d8576b\"],[0.6666666666666666,\"#ed7953\"],[0.7777777777777778,\"#fb9f3a\"],[0.8888888888888888,\"#fdca26\"],[1.0,\"#f0f921\"]],\"type\":\"histogram2dcontour\"}],\"mesh3d\":[{\"colorbar\":{\"outlinewidth\":0,\"ticks\":\"\"},\"type\":\"mesh3d\"}],\"parcoords\":[{\"line\":{\"colorbar\":{\"outlinewidth\":0,\"ticks\":\"\"}},\"type\":\"parcoords\"}],\"pie\":[{\"automargin\":true,\"type\":\"pie\"}],\"scatter\":[{\"marker\":{\"colorbar\":{\"outlinewidth\":0,\"ticks\":\"\"}},\"type\":\"scatter\"}],\"scatter3d\":[{\"line\":{\"colorbar\":{\"outlinewidth\":0,\"ticks\":\"\"}},\"marker\":{\"colorbar\":{\"outlinewidth\":0,\"ticks\":\"\"}},\"type\":\"scatter3d\"}],\"scattercarpet\":[{\"marker\":{\"colorbar\":{\"outlinewidth\":0,\"ticks\":\"\"}},\"type\":\"scattercarpet\"}],\"scattergeo\":[{\"marker\":{\"colorbar\":{\"outlinewidth\":0,\"ticks\":\"\"}},\"type\":\"scattergeo\"}],\"scattergl\":[{\"marker\":{\"colorbar\":{\"outlinewidth\":0,\"ticks\":\"\"}},\"type\":\"scattergl\"}],\"scattermapbox\":[{\"marker\":{\"colorbar\":{\"outlinewidth\":0,\"ticks\":\"\"}},\"type\":\"scattermapbox\"}],\"scatterpolar\":[{\"marker\":{\"colorbar\":{\"outlinewidth\":0,\"ticks\":\"\"}},\"type\":\"scatterpolar\"}],\"scatterpolargl\":[{\"marker\":{\"colorbar\":{\"outlinewidth\":0,\"ticks\":\"\"}},\"type\":\"scatterpolargl\"}],\"scatterternary\":[{\"marker\":{\"colorbar\":{\"outlinewidth\":0,\"ticks\":\"\"}},\"type\":\"scatterternary\"}],\"surface\":[{\"colorbar\":{\"outlinewidth\":0,\"ticks\":\"\"},\"colorscale\":[[0.0,\"#0d0887\"],[0.1111111111111111,\"#46039f\"],[0.2222222222222222,\"#7201a8\"],[0.3333333333333333,\"#9c179e\"],[0.4444444444444444,\"#bd3786\"],[0.5555555555555556,\"#d8576b\"],[0.6666666666666666,\"#ed7953\"],[0.7777777777777778,\"#fb9f3a\"],[0.8888888888888888,\"#fdca26\"],[1.0,\"#f0f921\"]],\"type\":\"surface\"}],\"table\":[{\"cells\":{\"fill\":{\"color\":\"#EBF0F8\"},\"line\":{\"color\":\"white\"}},\"header\":{\"fill\":{\"color\":\"#C8D4E3\"},\"line\":{\"color\":\"white\"}},\"type\":\"table\"}]},\"layout\":{\"annotationdefaults\":{\"arrowcolor\":\"#2a3f5f\",\"arrowhead\":0,\"arrowwidth\":1},\"autotypenumbers\":\"strict\",\"coloraxis\":{\"colorbar\":{\"outlinewidth\":0,\"ticks\":\"\"}},\"colorscale\":{\"diverging\":[[0,\"#8e0152\"],[0.1,\"#c51b7d\"],[0.2,\"#de77ae\"],[0.3,\"#f1b6da\"],[0.4,\"#fde0ef\"],[0.5,\"#f7f7f7\"],[0.6,\"#e6f5d0\"],[0.7,\"#b8e186\"],[0.8,\"#7fbc41\"],[0.9,\"#4d9221\"],[1,\"#276419\"]],\"sequential\":[[0.0,\"#0d0887\"],[0.1111111111111111,\"#46039f\"],[0.2222222222222222,\"#7201a8\"],[0.3333333333333333,\"#9c179e\"],[0.4444444444444444,\"#bd3786\"],[0.5555555555555556,\"#d8576b\"],[0.6666666666666666,\"#ed7953\"],[0.7777777777777778,\"#fb9f3a\"],[0.8888888888888888,\"#fdca26\"],[1.0,\"#f0f921\"]],\"sequentialminus\":[[0.0,\"#0d0887\"],[0.1111111111111111,\"#46039f\"],[0.2222222222222222,\"#7201a8\"],[0.3333333333333333,\"#9c179e\"],[0.4444444444444444,\"#bd3786\"],[0.5555555555555556,\"#d8576b\"],[0.6666666666666666,\"#ed7953\"],[0.7777777777777778,\"#fb9f3a\"],[0.8888888888888888,\"#fdca26\"],[1.0,\"#f0f921\"]]},\"colorway\":[\"#636efa\",\"#EF553B\",\"#00cc96\",\"#ab63fa\",\"#FFA15A\",\"#19d3f3\",\"#FF6692\",\"#B6E880\",\"#FF97FF\",\"#FECB52\"],\"font\":{\"color\":\"#2a3f5f\"},\"geo\":{\"bgcolor\":\"white\",\"lakecolor\":\"white\",\"landcolor\":\"#E5ECF6\",\"showlakes\":true,\"showland\":true,\"subunitcolor\":\"white\"},\"hoverlabel\":{\"align\":\"left\"},\"hovermode\":\"closest\",\"mapbox\":{\"style\":\"light\"},\"paper_bgcolor\":\"white\",\"plot_bgcolor\":\"#E5ECF6\",\"polar\":{\"angularaxis\":{\"gridcolor\":\"white\",\"linecolor\":\"white\",\"ticks\":\"\"},\"bgcolor\":\"#E5ECF6\",\"radialaxis\":{\"gridcolor\":\"white\",\"linecolor\":\"white\",\"ticks\":\"\"}},\"scene\":{\"xaxis\":{\"backgroundcolor\":\"#E5ECF6\",\"gridcolor\":\"white\",\"gridwidth\":2,\"linecolor\":\"white\",\"showbackground\":true,\"ticks\":\"\",\"zerolinecolor\":\"white\"},\"yaxis\":{\"backgroundcolor\":\"#E5ECF6\",\"gridcolor\":\"white\",\"gridwidth\":2,\"linecolor\":\"white\",\"showbackground\":true,\"ticks\":\"\",\"zerolinecolor\":\"white\"},\"zaxis\":{\"backgroundcolor\":\"#E5ECF6\",\"gridcolor\":\"white\",\"gridwidth\":2,\"linecolor\":\"white\",\"showbackground\":true,\"ticks\":\"\",\"zerolinecolor\":\"white\"}},\"shapedefaults\":{\"line\":{\"color\":\"#2a3f5f\"}},\"ternary\":{\"aaxis\":{\"gridcolor\":\"white\",\"linecolor\":\"white\",\"ticks\":\"\"},\"baxis\":{\"gridcolor\":\"white\",\"linecolor\":\"white\",\"ticks\":\"\"},\"bgcolor\":\"#E5ECF6\",\"caxis\":{\"gridcolor\":\"white\",\"linecolor\":\"white\",\"ticks\":\"\"}},\"title\":{\"x\":0.05},\"xaxis\":{\"automargin\":true,\"gridcolor\":\"white\",\"linecolor\":\"white\",\"ticks\":\"\",\"title\":{\"standoff\":15},\"zerolinecolor\":\"white\",\"zerolinewidth\":2},\"yaxis\":{\"automargin\":true,\"gridcolor\":\"white\",\"linecolor\":\"white\",\"ticks\":\"\",\"title\":{\"standoff\":15},\"zerolinecolor\":\"white\",\"zerolinewidth\":2}}},\"polar\":{\"domain\":{\"x\":[0.0,1.0],\"y\":[0.0,1.0]},\"angularaxis\":{\"direction\":\"clockwise\",\"rotation\":90}},\"legend\":{\"title\":{\"text\":\"label\"},\"tracegroupgap\":0},\"margin\":{\"t\":60},\"height\":700,\"width\":800},                        {\"responsive\": true}                    ).then(function(){\n",
              "                            \n",
              "var gd = document.getElementById('8c63c299-c064-4e20-981d-7250a2a2c10c');\n",
              "var x = new MutationObserver(function (mutations, observer) {{\n",
              "        var display = window.getComputedStyle(gd).display;\n",
              "        if (!display || display === 'none') {{\n",
              "            console.log([gd, 'removed!']);\n",
              "            Plotly.purge(gd);\n",
              "            observer.disconnect();\n",
              "        }}\n",
              "}});\n",
              "\n",
              "// Listen for the removal of the full notebook cells\n",
              "var notebookContainer = gd.closest('#notebook-container');\n",
              "if (notebookContainer) {{\n",
              "    x.observe(notebookContainer, {childList: true});\n",
              "}}\n",
              "\n",
              "// Listen for the clearing of the current output cell\n",
              "var outputEl = gd.closest('.output');\n",
              "if (outputEl) {{\n",
              "    x.observe(outputEl, {childList: true});\n",
              "}}\n",
              "\n",
              "                        })                };                            </script>        </div>\n",
              "</body>\n",
              "</html>"
            ]
          },
          "metadata": {}
        }
      ]
    },
    {
      "cell_type": "markdown",
      "id": "b575d2b1",
      "metadata": {
        "id": "b575d2b1"
      },
      "source": [
        "### Insights from the polar plot above"
      ]
    },
    {
      "cell_type": "markdown",
      "source": [
        "1. We used six features to segment our customers base into 4 clusters.These features are placed on the circle and called polar cordinates.\n",
        "\n",
        "2. The Polar plot above is read and interpreted radially. This means that the values increase as we move away from the center showing the infuence of a particular feature on that label.\n",
        "\n",
        "3. Cluster 0 (blue) and Cluster 2 (green) have overlapping lines showing that their centroids are very close to each other as we discussed above.\n",
        "\n",
        "4. Cluster 3 (purple) overlaps with Cluster 0 and 2 on all features except one (amount_ overlap) on all the features except one. \n",
        "\n",
        "5. We identify the following different customer segments based on the plot above-\n",
        "- Inactive old users (label 0) - Users who registered on the platform long time ago but are not active currently.\n",
        "Action: Start customer engagement by sending emails,notificiation to re-engage these clients.\n",
        "\n",
        "- Bargain shoppers (label 1) - Users who are very active on the platform and buy heavily discounted items. Action: Engage this base with discounted items and deals.\n",
        "\n",
        "- New and inactive users (label 2) - Users who have recently joined but haven't bought much and are not that actively looking for items. Somewhat similar to label 0 except that they are more recent users. Action: Identify the interests of these new users to increase their engagement on the platform.\n",
        "\n",
        "- Premium shoppers (label 3) - Heavy spenders who like to purchase premium items. Action: Recommend more high end items to them.\n"
      ],
      "metadata": {
        "id": "uUExEzj-x2jr"
      },
      "id": "uUExEzj-x2jr"
    },
    {
      "cell_type": "markdown",
      "source": [
        "### Determining the optimal value of K"
      ],
      "metadata": {
        "id": "dsDSzRX7S24w"
      },
      "id": "dsDSzRX7S24w"
    },
    {
      "cell_type": "markdown",
      "source": [
        "### Method 1: Elbow method"
      ],
      "metadata": {
        "id": "jsrY6hBsvpqR"
      },
      "id": "jsrY6hBsvpqR"
    },
    {
      "cell_type": "code",
      "source": [
        "# We train our model for different values of k and then plot the value of inertia.\n",
        "# Inertia is Within Cluster Sum of Squares (intracluster)\n",
        "kmeans_per_k = [KMeans(n_clusters=k, random_state=42).fit(X) for k in range(1, 10)]\n",
        "inertias = [model.inertia_ for model in kmeans_per_k]"
      ],
      "metadata": {
        "id": "VBhKIyNFS15Y"
      },
      "id": "VBhKIyNFS15Y",
      "execution_count": null,
      "outputs": []
    },
    {
      "cell_type": "markdown",
      "source": [
        "### Now we will plot the values of the k and the values of the inertia computed"
      ],
      "metadata": {
        "id": "sPEIuEWiVqig"
      },
      "id": "sPEIuEWiVqig"
    },
    {
      "cell_type": "code",
      "source": [
        "plt.figure(figsize=(12, 8))\n",
        "plt.plot(range(1, 10), inertias, \"bo-\")\n",
        "plt.xlabel(\"$k$\", fontsize=14)\n",
        "plt.ylabel(\"Inertia\", fontsize=14)\n",
        "plt.annotate('Elbow',\n",
        "            xy=(3, inertias[2]),\n",
        "            xytext=(0.55, 0.55),\n",
        "            textcoords='figure fraction',\n",
        "            fontsize=16,\n",
        "            arrowprops=dict(facecolor='black', shrink=0.1)\n",
        ") \n",
        "plt.show()"
      ],
      "metadata": {
        "colab": {
          "base_uri": "https://localhost:8080/",
          "height": 502
        },
        "id": "zYbgVowPU8Dp",
        "outputId": "ac5b0bb2-75c9-4f58-f373-9f5615e22ced"
      },
      "id": "zYbgVowPU8Dp",
      "execution_count": null,
      "outputs": [
        {
          "output_type": "display_data",
          "data": {
            "text/plain": [
              "<Figure size 864x576 with 1 Axes>"
            ],
            "image/png": "[encoded data removed]"
          },
          "metadata": {
            "needs_background": "light"
          }
        }
      ]
    },
    {
      "cell_type": "markdown",
      "source": [
        "### From the plot above we note that for values of k from 1 to 3, there is a sharp fall in the inertia value and after this point (potential elbow point), the change in Inertia tapers off.We can carry out a domain specific cluster analysis with k=3 and k=4 and pick up which ever yields better results. \n",
        "\n",
        "### There is another method of Silhouette Score to compute the value of K that we will explore in the next section."
      ],
      "metadata": {
        "id": "4v03bOqpWJ0K"
      },
      "id": "4v03bOqpWJ0K"
    },
    {
      "cell_type": "markdown",
      "source": [
        "### Method 2: Silhouette Score"
      ],
      "metadata": {
        "id": "--v4y8HEvy-5"
      },
      "id": "--v4y8HEvy-5"
    },
    {
      "cell_type": "markdown",
      "source": [
        "### Silhouette Score is the average of Silhouette coefficients given by Silhouette Coecient of X_i = (b – a) / max(a, b) \n",
        "\n",
        "### The range for the Silhouette coefficient is -1 to +1. Typically we want this coefficient to be greater than 0 and ideally close to 1 for well separated tight clusters.\n"
      ],
      "metadata": {
        "id": "vveIRMGWeFDL"
      },
      "id": "vveIRMGWeFDL"
    },
    {
      "cell_type": "markdown",
      "source": [
        "### Let us plot the Silhouette score below-"
      ],
      "metadata": {
        "id": "OUdumdjIfUbw"
      },
      "id": "OUdumdjIfUbw"
    },
    {
      "cell_type": "code",
      "source": [
        "from sklearn.metrics import silhouette_score\n",
        "silhouette_scores = [silhouette_score(X, model.labels_) \n",
        "                     for model in kmeans_per_k[1:]]# take the cluster indices and map it to the data X\n",
        "plt.figure(figsize=(10, 6))\n",
        "plt.plot(range(2, 10), silhouette_scores, \"bo-\")\n",
        "plt.xlabel(\"$k$\", fontsize=14)\n",
        "plt.ylabel(\"Silhouette score\", fontsize=14)\n",
        "plt.show()"
      ],
      "metadata": {
        "colab": {
          "base_uri": "https://localhost:8080/",
          "height": 393
        },
        "id": "io29E41KS1J-",
        "outputId": "dcb350bf-50ae-424d-a360-8ee0614a18ea"
      },
      "id": "io29E41KS1J-",
      "execution_count": null,
      "outputs": [
        {
          "output_type": "display_data",
          "data": {
            "text/plain": [
              "<Figure size 720x432 with 1 Axes>"
            ],
            "image/png": "[encoded data removed]"
          },
          "metadata": {
            "needs_background": "light"
          }
        }
      ]
    },
    {
      "cell_type": "markdown",
      "source": [
        "### In the plot above, we observe that K=2 gives us the maximum value of the Silhouette score but we prefer more than 2 clusters. K=3 gives us a slightly lower but reasonably good value of the silhouette coefficient. For values of k >3 we see a sharp decline in the value of the Silhouette score. Hence K=3 is the best option using both Elbow method as well as the Silhouette score."
      ],
      "metadata": {
        "id": "mFo3zTb0imw1"
      },
      "id": "mFo3zTb0imw1"
    },
    {
      "cell_type": "markdown",
      "source": [
        "### Conclusion"
      ],
      "metadata": {
        "id": "h-k-3KemlrUC"
      },
      "id": "h-k-3KemlrUC"
    },
    {
      "cell_type": "markdown",
      "source": [
        "### Customer Segmentation is an effective strategy that enables companies to engage with their users in a more meaningful and customized manner. Clustering is a powerful unsupervised learning technique that can generate useful insights about the customer segments,as demonstrated in our simple case study above. \n",
        "\n",
        "### Hope you found my notebook useful. Your upvote and connect will keep me motivated to share my learning experiences as a data scientist. Thank you for reading!"
      ],
      "metadata": {
        "id": "0rQsFRSrQcDK"
      },
      "id": "0rQsFRSrQcDK"
    }
  ],
  "metadata": {
    "kernelspec": {
      "display_name": "Python 3 (ipykernel)",
      "language": "python",
      "name": "python3"
    },
    "language_info": {
      "codemirror_mode": {
        "name": "ipython",
        "version": 3
      },
      "file_extension": ".py",
      "mimetype": "text/x-python",
      "name": "python",
      "nbconvert_exporter": "python",
      "pygments_lexer": "ipython3",
      "version": "3.9.7"
    },
    "colab": {
      "name": "Clustering_for_Customer_Segmentation.ipynb",
      "provenance": [],
      "collapsed_sections": [],
      "include_colab_link": true
    }
  },
  "nbformat": 4,
  "nbformat_minor": 5
}